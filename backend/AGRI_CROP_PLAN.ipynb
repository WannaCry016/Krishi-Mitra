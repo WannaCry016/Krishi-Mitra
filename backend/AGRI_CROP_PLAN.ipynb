{
 "cells": [
  {
   "cell_type": "code",
   "execution_count": 3,
   "id": "4e080c31-c506-47c1-907d-5747a204bf6e",
   "metadata": {},
   "outputs": [
    {
     "name": "stdout",
     "output_type": "stream",
     "text": [
      "Welcome to the Agriculture Chatbot! Type 'exit' to end the session.\n"
     ]
    },
    {
     "name": "stdin",
     "output_type": "stream",
     "text": [
      "You:  hii\n"
     ]
    },
    {
     "name": "stdout",
     "output_type": "stream",
     "text": [
      "Bot: To create a detailed crop plan, I need some information. \n",
      "1. What is your 'CropType'? \n",
      "2. What is your 'SoilType'? If unsure, you can identify it by checking its texture (clay, silt, sand) or sending a soil sample for testing.\n",
      "3. What is your 'LandArea' in acres or hectares?\n",
      "4. What is your 'Location' (city/state/country)?\n",
      "5. What is your 'WaterSource' (well, river, rain, irrigation system)?\n",
      "6. Do you have any preferences or restrictions on 'Fertilizers'?\n",
      "7. Do you have any preferences or restrictions on 'Pesticides'?\n",
      "8. What is your 'Budget' for the entire farming process?\n"
     ]
    },
    {
     "name": "stdin",
     "output_type": "stream",
     "text": [
      "You:  banana\n"
     ]
    },
    {
     "name": "stdout",
     "output_type": "stream",
     "text": [
      "Bot: To create a detailed crop plan for banana, I need more information. \n",
      "1. What is your 'SoilType'? If unsure, you can identify it by checking its texture (clay, silt, sand) or sending a soil sample for testing.\n",
      "2. What is your 'LandArea' in acres or hectares?\n",
      "3. What is your 'Location' (city/state/country)?\n",
      "4. What is your 'WaterSource' (well, river, rain, irrigation system)?\n",
      "5. Do you have any preferences or restrictions on 'Fertilizers'?\n",
      "6. Do you have any preferences or restrictions on 'Pesticides'?\n",
      "7. What is your 'Budget' for the entire farming process?\n"
     ]
    },
    {
     "name": "stdin",
     "output_type": "stream",
     "text": [
      "You:  loamy, 2 acres, amravati Maharashtra, pump system, no, no, mid budget\n"
     ]
    },
    {
     "name": "stdout",
     "output_type": "stream",
     "text": [
      "Bot: To create a detailed crop plan for banana, I will provide you with the following plan:\n",
      "\n",
      "**Soil Preparation:**\n",
      "Loamy soil is suitable for banana cultivation. Add 10 tons of organic compost per acre to improve soil fertility. Till the soil to a depth of 12 inches to loosen and aerate it.\n",
      "\n",
      "**Sowing:**\n",
      "Plant banana suckers 12 inches apart in rows 10 feet apart. Use 400 suckers per acre.\n",
      "\n",
      "**Irrigation:**\n",
      "Use the pump system to irrigate the field every 7-10 days during dry weather. Ensure the soil remains moist but not waterlogged.\n",
      "\n",
      "**Fertilization:**\n",
      "Apply 100 kg of NPK fertilizer (10:10:10) per acre at planting, followed by 200 kg per acre 3 months later.\n",
      "\n",
      "**Pest Management:**\n",
      "Regularly inspect the field for pests like aphids, whiteflies, and nematodes. Use neem oil or insecticidal soap to control infestations.\n",
      "\n",
      "**Harvesting:**\n",
      "Bananas will be ready to harvest in 12-14 months. Cut the stem 1 inch above the fruit, leaving the fruit intact.\n",
      "\n",
      "**Budget Breakdown:**\n",
      "- Land preparation: 10% of mid budget\n",
      "- Suckers and planting: 20% of mid budget\n",
      "- Irrigation system maintenance: 10% of mid budget\n",
      "- Fertilizers and pesticides: 30% of mid budget\n",
      "- Labor and miscellaneous: 30% of mid budget\n",
      "\n",
      "Please confirm if you are satisfied with this plan.\n",
      "1. Are you satisfied with the plan?\n",
      "2. Do you need any modifications? \n",
      "User response needed for further assistance.\n"
     ]
    },
    {
     "name": "stdin",
     "output_type": "stream",
     "text": [
      "You:  what time of year is it best to cultivate banana?\n"
     ]
    },
    {
     "name": "stdout",
     "output_type": "stream",
     "text": [
      "Bot: To determine the best time for cultivating banana, I need to consider your 'Location' (Amravati, Maharashtra). In your region, the ideal time for planting banana is during the summer or rainy season, typically from June to September. This allows the plants to take advantage of the warm weather and ample moisture, promoting healthy growth and development. \n",
      "\n",
      "Please confirm if you want to proceed with the previously discussed plan, considering the optimal planting time. \n",
      "1. Are you satisfied with the plan?\n",
      "2. Do you need any modifications?\n"
     ]
    },
    {
     "name": "stdin",
     "output_type": "stream",
     "text": [
      "You:  yes\n"
     ]
    },
    {
     "name": "stdout",
     "output_type": "stream",
     "text": [
      "\n",
      "Final Crop Plan:\n",
      "{\n",
      "    \"CropType\": \"Banana\",\n",
      "    \"SoilPreparation\": \"Add 10 tons of organic compost per acre to improve soil fertility. Till the soil to a depth of 12 inches to loosen and aerate it.\",\n",
      "    \"Sowing\": \"Plant banana suckers 12 inches apart in rows 10 feet apart. Use 400 suckers per acre. Ideal planting time is from June to September.\",\n",
      "    \"Irrigation\": \"Use the pump system to irrigate the field every 7-10 days during dry weather. Ensure the soil remains moist but not waterlogged.\",\n",
      "    \"Fertilization\": \"Apply 100 kg of NPK fertilizer (10:10:10) per acre at planting, followed by 200 kg per acre 3 months later.\",\n",
      "    \"PestManagement\": \"Regularly inspect the field for pests like aphids, whiteflies, and nematodes. Use neem oil or insecticidal soap to control infestations.\",\n",
      "    \"Harvesting\": \"Bananas will be ready to harvest in 12-14 months. Cut the stem 1 inch above the fruit, leaving the fruit intact.\"\n",
      "}\n"
     ]
    }
   ],
   "source": [
    "import json\n",
    "from groq import Groq\n",
    "from datetime import datetime\n",
    "\n",
    "GROQ_MODEL = \"llama-3.3-70b-versatile\"\n",
    "\n",
    "# Initialize GROQ API client\n",
    "client = Groq(api_key=\"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\")\n",
    "\n",
    "# Session string to hold entire conversation\n",
    "session_history = \"User-Bot Conversation History:\\n\"\n",
    "\n",
    "crop_plan = {}\n",
    "\n",
    "current_date = datetime.today()\n",
    "date = current_date.strftime(\"%A, %B %d, %Y\")\n",
    "\n",
    "\n",
    "def chat_with_llm(user_input):\n",
    "    \"\"\"\n",
    "    Process the user's input using LLM to determine the next action and provide responses.\n",
    "    \"\"\"\n",
    "    global session_history\n",
    "    session_history += f\"User: {user_input}\\n\"\n",
    "\n",
    "    prompt = (\n",
    "        \"Use clear, concise, and easy-to-understand language keep the response as short as possible and proper format. \"\n",
    "        \"Guide the user by asking for necessary agricultural inputs and providing a detailed crop plan. \"\n",
    "        \"The chatbot should cover all stages from soil preparation to harvesting. \"\n",
    "        \"Ask for the following crucial parameters: \"\n",
    "        \"'CropType': The type of crop the user wants to cultivate. \"\n",
    "        \"'SoilType': The type of soil available. If unsure, guide the user on how to identify it. \"\n",
    "        \"'LandArea': Total land area available for cultivation in acres or hectares. \"\n",
    "        \"'Location': User's location to determine the climate and suitable crops. \"\n",
    "        \"'WaterSource': Availability and type of irrigation. \"\n",
    "        \"'Fertilizers': Any preferences or restrictions on fertilizers. \"\n",
    "        \"'Pesticides': Any preferences or restrictions on pesticides. \"\n",
    "        \"'Budget': Total budget for the entire farming process. \"\n",
    "        \"If enough information is provided, generate a complete crop plan detailing soil preparation, sowing, irrigation schedules, fertilization, pest management, and harvesting. \"\n",
    "        \"Once the user confirms they are satisfied with the plan, respond with 'OK PLAN' without any other sentence or explanation. Ensure that the response is in this exact format only.\\n\\n\"\n",
    "        f\"Conversation:\\n{session_history}\"\n",
    "    )\n",
    "\n",
    "    response = client.chat.completions.create(\n",
    "        model=GROQ_MODEL,\n",
    "        messages=[{\"role\": \"user\", \"content\": prompt}],\n",
    "        temperature=1,\n",
    "        max_tokens=1024,\n",
    "        top_p=1,\n",
    "        stream=False\n",
    "    )\n",
    "\n",
    "    bot_response = response.choices[0].message.content.strip()\n",
    "    session_history += f\"Bot: {bot_response}\\n\"\n",
    "    return bot_response\n",
    "\n",
    "\n",
    "def parse_crop_details(bot_response):\n",
    "    \"\"\"\n",
    "    Parse the crop details from the bot response into a dictionary.\n",
    "    \"\"\"\n",
    "    global crop_plan\n",
    "    try:\n",
    "        bot_response = bot_response.strip()\n",
    "\n",
    "        if not bot_response.startswith(\"{\") or not bot_response.endswith(\"}\"):\n",
    "            raise ValueError(\"Bot response is not valid JSON.\")\n",
    "\n",
    "        crop_plan = json.loads(bot_response)\n",
    "\n",
    "    except json.JSONDecodeError as e:\n",
    "        print(f\"Error parsing crop details: {e}\")\n",
    "        crop_plan = {}\n",
    "    except ValueError as e:\n",
    "        print(f\"Error: {e}\")\n",
    "        crop_plan = {}\n",
    "\n",
    "\n",
    "def chatbot():\n",
    "    \"\"\"\n",
    "    Main chatbot loop to interact with the user.\n",
    "    \"\"\"\n",
    "    global session_history\n",
    "    print(\"Welcome to the Agriculture Chatbot! Type 'exit' to end the session.\")\n",
    "\n",
    "    while True:\n",
    "        user_input = input(\"You: \")\n",
    "        if user_input.lower() in [\"exit\", \"quit\"]:\n",
    "            print(\"Goodbye! Happy farming!\")\n",
    "            break\n",
    "\n",
    "        bot_response = chat_with_llm(user_input)\n",
    "\n",
    "        if \"OK PLAN\" in bot_response.upper():\n",
    "            prompt_for_details = (\n",
    "                \"Provide crop plan details strictly in a dictionary format as follows. Do not include any additional text or explanation, only the dictionary. The key names must be the same as provided in the following format and should be in double quotes:\\n\"\n",
    "                \"'CropType': Name of the crop, \"\n",
    "                \"'SoilPreparation': Steps and methods for soil preparation, \"\n",
    "                \"'Sowing': Recommended sowing techniques and timeline, \"\n",
    "                \"'Irrigation': Irrigation schedule and methods, \"\n",
    "                \"'Fertilization': Fertilizer types and application schedule, \"\n",
    "                \"'PestManagement': Pest control methods and schedules, \"\n",
    "                \"'Harvesting': Harvesting techniques and timeline.\\n\"\n",
    "                f\"Conversation:\\n{session_history}\"\n",
    "            )\n",
    "\n",
    "            response = client.chat.completions.create(\n",
    "                model=GROQ_MODEL,\n",
    "                messages=[{\"role\": \"user\", \"content\": prompt_for_details}],\n",
    "                temperature=1,\n",
    "                max_tokens=1024,\n",
    "                top_p=1,\n",
    "                stream=False\n",
    "            )\n",
    "\n",
    "            parse_crop_details(response.choices[0].message.content.strip())\n",
    "            break\n",
    "        else:\n",
    "            print(f\"Bot: {bot_response}\")\n",
    "\n",
    "\n",
    "def main():\n",
    "    chatbot()\n",
    "    print(\"\\nFinal Crop Plan:\")\n",
    "    print(json.dumps(crop_plan, indent=4))\n",
    "\n",
    "\n",
    "if __name__ == \"__main__\":\n",
    "    main()"
   ]
  },
  {
   "cell_type": "code",
   "execution_count": null,
   "id": "ba8e91dc-f75c-414b-a7d6-0bd2918a17b9",
   "metadata": {},
   "outputs": [],
   "source": []
  }
 ],
 "metadata": {
  "kernelspec": {
   "display_name": "Python 3 (ipykernel)",
   "language": "python",
   "name": "python3"
  },
  "language_info": {
   "codemirror_mode": {
    "name": "ipython",
    "version": 3
   },
   "file_extension": ".py",
   "mimetype": "text/x-python",
   "name": "python",
   "nbconvert_exporter": "python",
   "pygments_lexer": "ipython3",
   "version": "3.11.9"
  }
 },
 "nbformat": 4,
 "nbformat_minor": 5
}
