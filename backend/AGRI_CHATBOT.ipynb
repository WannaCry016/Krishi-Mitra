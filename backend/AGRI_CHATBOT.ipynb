{
 "cells": [
  {
   "cell_type": "code",
   "execution_count": 1,
   "id": "98b7dec4-d6b5-4a31-9303-4d97f1df6b5b",
   "metadata": {},
   "outputs": [
    {
     "name": "stdout",
     "output_type": "stream",
     "text": [
      "Welcome to the Agriculture Chatbot! Ask me anything related to farming. Type 'exit' to end the session.\n"
     ]
    },
    {
     "name": "stdin",
     "output_type": "stream",
     "text": [
      "You:  hii\n"
     ]
    },
    {
     "name": "stdout",
     "output_type": "stream",
     "text": [
      "Bot: Hello. What's on your mind about farming today? Crop selection, soil issues, or something else?\n"
     ]
    },
    {
     "name": "stdin",
     "output_type": "stream",
     "text": [
      "You:  how to cultivate rice?\n"
     ]
    },
    {
     "name": "stdout",
     "output_type": "stream",
     "text": [
      "Bot: To cultivate rice, follow these steps: \n",
      "\n",
      "1. **Choose a suitable variety**: Select a rice variety that suits your climate and soil type.\n",
      "2. **Prepare the soil**: Rice needs a flat, level field with well-draining soil and a pH between 5.5 and 6.5.\n",
      "3. **Plant at the right time**: Typically, rice is planted in the spring or early summer when soil temperature reaches 55°F (13°C).\n",
      "4. **Use proper irrigation**: Flood the field to about 2-3 inches deep, then drain and repeat as needed.\n",
      "5. **Fertilize**: Apply nitrogen, phosphorus, and potassium fertilizers as recommended for your soil type.\n",
      "6. **Control weeds and pests**: Use herbicides, insecticides, or integrated pest management techniques as needed.\n",
      "7. **Harvest**: Cut the mature rice crop when the grains are dry and golden brown, typically 3-4 months after planting.\n",
      "\n",
      "What specific aspect of rice cultivation would you like to know more about?\n"
     ]
    },
    {
     "name": "stdin",
     "output_type": "stream",
     "text": [
      "You:  what are varieties of rice there to cultivate?\n"
     ]
    },
    {
     "name": "stdout",
     "output_type": "stream",
     "text": [
      "Bot: There are over 40,000 rice varieties, but here are some popular ones:\n",
      "\n",
      "1. **Jasmine**: Fragrant, long-grain rice, ideal for Asian cuisine.\n",
      "2. **Basmati**: Aromatic, long-grain rice, popular in Indian and Middle Eastern dishes.\n",
      "3. **Sushi rice** (Japanese short-grain): Starchy, clingy rice, perfect for sushi and other Japanese dishes.\n",
      "4. **Doongara**: Australian long-grain rice, known for its high yield and drought tolerance.\n",
      "5. **Wehani**: Indian long-grain rice, with a distinctive nutty flavor and aroma.\n",
      "6. **Glutinous** (or \"sweet\" rice): Short-grain rice, high in starch, used for desserts and snacks.\n",
      "7. **Arborio**: Italian short-grain rice, ideal for risottos and paellas.\n",
      "\n",
      "Consider factors like climate, soil type, and market demand when choosing a rice variety. Which type of rice are you interested in growing?\n"
     ]
    },
    {
     "name": "stdin",
     "output_type": "stream",
     "text": [
      "You:  in india\n"
     ]
    },
    {
     "name": "stdout",
     "output_type": "stream",
     "text": [
      "Bot: In India, some popular rice varieties for cultivation are:\n",
      "\n",
      "1. **Basmati**: Known for its unique aroma and flavor, grown mainly in the Indo-Gangetic Plain.\n",
      "2. **Pusa Basmati**: A hybrid variety, resistant to pests and diseases, with high yield potential.\n",
      "3. **Jaya**: A high-yielding, drought-tolerant variety, suitable for irrigation and rain-fed conditions.\n",
      "4. **Sarjoo 52**: A short-grain variety, resistant to salinity and alkalinity, grown in Eastern India.\n",
      "5. **Swarna**: A medium-grain variety, with high yield potential, grown in Southern India.\n",
      "\n",
      "Consider factors like regional climate, soil type, and market demand when choosing a rice variety in India. Which region of India are you planning to cultivate rice in?\n"
     ]
    },
    {
     "name": "stdin",
     "output_type": "stream",
     "text": [
      "You:  kanpur, Uttar Pradesh\n"
     ]
    },
    {
     "name": "stdout",
     "output_type": "stream",
     "text": [
      "Bot: In Kanpur, Uttar Pradesh, you have a subtropical climate with fertile alluvial soil. Suitable rice varieties for your region are:\n",
      "\n",
      "1. **Basmati**: Grown extensively in Uttar Pradesh, known for its aromatic flavor and long grains.\n",
      "2. **Pusa Basmati 1121**: A popular hybrid variety, resistant to pests and diseases, with high yield potential.\n",
      "3. **Sarjoo 52**: A short-grain variety, suitable for the region's climate and soil conditions.\n",
      "4. **HUBR 1-5-1**: A hybrid variety, developed by the Indian Agricultural Research Institute, with high yield potential and disease resistance.\n",
      "\n",
      "These varieties are well-suited for the Kanpur region's climate and soil conditions. Would you like to know more about the specific growing conditions, fertilizer requirements, or pest management strategies for these varieties?\n"
     ]
    },
    {
     "name": "stdin",
     "output_type": "stream",
     "text": [
      "You:  can you tell me about prices of these?\n"
     ]
    },
    {
     "name": "stdout",
     "output_type": "stream",
     "text": [
      "Bot: In Kanpur, Uttar Pradesh, the prices of rice varieties can fluctuate based on market demand, season, and other factors. Here are some approximate price ranges for the varieties I mentioned earlier:\n",
      "\n",
      "1. **Basmati**: ₹25-₹40 per kilogram (depending on the quality and grade)\n",
      "2. **Pusa Basmati 1121**: ₹30-₹50 per kilogram (due to its high demand and premium quality)\n",
      "3. **Sarjoo 52**: ₹18-₹28 per kilogram (a more affordable option, suitable for local markets)\n",
      "4. **HUBR 1-5-1**: ₹22-₹35 per kilogram (a hybrid variety with a moderate price range)\n",
      "\n",
      "Please note that these prices are approximate and can vary depending on the time of year, market conditions, and other factors.\n",
      "\n",
      "As a farmer, you can expect to sell your rice crop to:\n",
      "\n",
      "1. **Local wholesalers**: At a price range of ₹15-₹25 per kilogram\n",
      "2. **Mandi (regulated market)**: At a price range of ₹18-₹30 per kilogram\n",
      "3. **Directly to consumers**: At a price range of ₹25-₹40 per kilogram\n",
      "\n",
      "Keep in mind that these prices are subject to change, and it's essential to stay updated on market trends to get the best possible price for your crop.\n",
      "\n",
      "Would you like to know more about marketing strategies, post-harvest management, or other aspects of rice cultivation in Kanpur, Uttar Pradesh?\n"
     ]
    },
    {
     "name": "stdin",
     "output_type": "stream",
     "text": [
      "You:  okay\n"
     ]
    },
    {
     "name": "stdout",
     "output_type": "stream",
     "text": [
      "Bot: Now that we've discussed prices, let's talk about marketing strategies to get the best price for your rice crop in Kanpur, Uttar Pradesh. Here are a few options:\n",
      "\n",
      "1. **Register with the local Mandi**: This will give you access to a wider market and better prices.\n",
      "2. **Sell directly to wholesalers**: Building relationships with local wholesalers can help you get a better price for your crop.\n",
      "3. **Explore online marketplaces**: Some online platforms connect farmers directly with consumers, eliminating intermediaries and increasing profitability.\n",
      "4. **Form a Farmer Producer Organization (FPO)**: Collaborating with other farmers can help you negotiate better prices and improve marketing efforts.\n",
      "\n",
      "Additionally, you can consider value-added products like:\n",
      "\n",
      "1. **Organic rice**: Growing organic rice can command a premium price in the market.\n",
      "2. **Sorted and graded rice**: Sorting and grading your rice can increase its value and appeal to consumers.\n",
      "3. **Rice-based products**: Diversifying into rice-based products like rice flour, rice bran oil, or rice snacks can also be profitable.\n",
      "\n",
      "To stay updated on market trends, you can:\n",
      "\n",
      "1. **Visit the local Mandi regularly**: Observe market prices and demand.\n",
      "2. **Subscribe to agricultural newsletters**: Stay informed about market trends, prices, and government policies.\n",
      "3. **Join farmer groups or cooperatives**: Network with other farmers to share knowledge and best practices.\n",
      "\n",
      "Which marketing strategy or value-added product interests you the most?\n"
     ]
    },
    {
     "name": "stdin",
     "output_type": "stream",
     "text": [
      "You:  exit\n"
     ]
    },
    {
     "name": "stdout",
     "output_type": "stream",
     "text": [
      "Goodbye! Happy farming!\n"
     ]
    }
   ],
   "source": [
    "import json\n",
    "from groq import Groq\n",
    "from datetime import datetime\n",
    "\n",
    "GROQ_MODEL = \"llama-3.3-70b-versatile\"\n",
    "\n",
    "# Initialize GROQ API client\n",
    "client = Groq(api_key=\"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\")\n",
    "\n",
    "# Session string to hold entire conversation\n",
    "session_history = \"User-Bot Conversation History:\\n\"\n",
    "\n",
    "current_date = datetime.today()\n",
    "date = current_date.strftime(\"%A, %B %d, %Y\")\n",
    "\n",
    "def chat_with_llm(user_input):\n",
    "    \"\"\"\n",
    "    Process the user's input using LLM to provide responses and guidance.\n",
    "    \"\"\"\n",
    "    global session_history\n",
    "    session_history += f\"User: {user_input}\\n\"\n",
    "\n",
    "    prompt = (\n",
    "        \"Act as an agriculture expert chatbot. Provide concise, practical, and short to the point relevant answers \"\n",
    "        \"to farming-related queries. Support queries about crop selection, soil health, irrigation, \"\n",
    "        \"weather conditions, fertilizers, pest control, market trends, and other general agriculture topics. \"\n",
    "        \"Ensure the responses are clear and actionable.\\n\\n\"\n",
    "        f\"Conversation:\\n{session_history}\"\n",
    "    )\n",
    "\n",
    "    response = client.chat.completions.create(\n",
    "        model=GROQ_MODEL,\n",
    "        messages=[{\"role\": \"user\", \"content\": prompt}],\n",
    "        temperature=1,\n",
    "        max_tokens=1024,\n",
    "        top_p=1,\n",
    "        stream=False\n",
    "    )\n",
    "\n",
    "    bot_response = response.choices[0].message.content.strip()\n",
    "    session_history += f\"Bot: {bot_response}\\n\"\n",
    "    return bot_response\n",
    "\n",
    "def chatbot():\n",
    "    \"\"\"\n",
    "    Main chatbot loop for user interaction.\n",
    "    \"\"\"\n",
    "    global session_history\n",
    "    print(\"Welcome to the Agriculture Chatbot! Ask me anything related to farming. Type 'exit' to end the session.\")\n",
    "\n",
    "    while True:\n",
    "        user_input = input(\"You: \")\n",
    "        if user_input.lower() in [\"exit\", \"quit\"]:\n",
    "            print(\"Goodbye! Happy farming!\")\n",
    "            break\n",
    "\n",
    "        bot_response = chat_with_llm(user_input)\n",
    "        print(f\"Bot: {bot_response}\")\n",
    "\n",
    "if __name__ == \"__main__\":\n",
    "    chatbot()"
   ]
  },
  {
   "cell_type": "code",
   "execution_count": null,
   "id": "ab7ca91c-7e52-4d2e-ace1-2ce48346c8a7",
   "metadata": {},
   "outputs": [],
   "source": []
  }
 ],
 "metadata": {
  "kernelspec": {
   "display_name": "Python 3 (ipykernel)",
   "language": "python",
   "name": "python3"
  },
  "language_info": {
   "codemirror_mode": {
    "name": "ipython",
    "version": 3
   },
   "file_extension": ".py",
   "mimetype": "text/x-python",
   "name": "python",
   "nbconvert_exporter": "python",
   "pygments_lexer": "ipython3",
   "version": "3.11.9"
  }
 },
 "nbformat": 4,
 "nbformat_minor": 5
}
